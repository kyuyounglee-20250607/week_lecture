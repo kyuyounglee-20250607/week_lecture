{
  "nbformat": 4,
  "nbformat_minor": 0,
  "metadata": {
    "colab": {
      "provenance": []
    },
    "kernelspec": {
      "name": "python3",
      "display_name": "Python 3"
    },
    "language_info": {
      "name": "python"
    }
  },
  "cells": [
    {
      "cell_type": "markdown",
      "source": [
        "print - input"
      ],
      "metadata": {
        "id": "YFticMJKHz9S"
      }
    },
    {
      "cell_type": "code",
      "source": [
        "print(\"안녕하세요\")"
      ],
      "metadata": {
        "colab": {
          "base_uri": "https://localhost:8080/"
        },
        "id": "PclewOnEIBN4",
        "outputId": "f37f0766-84a4-414e-8923-36a74873a977"
      },
      "execution_count": 9,
      "outputs": [
        {
          "output_type": "stream",
          "name": "stdout",
          "text": [
            "안녕하세요\n"
          ]
        }
      ]
    },
    {
      "cell_type": "code",
      "source": [
        "print('''동해물과 백두산이\n",
        "마르고 닳도록\n",
        "...''')"
      ],
      "metadata": {
        "colab": {
          "base_uri": "https://localhost:8080/"
        },
        "id": "WFyB3v8VIpwB",
        "outputId": "43a2bd80-b388-4f1e-95cb-99488e034291"
      },
      "execution_count": 10,
      "outputs": [
        {
          "output_type": "stream",
          "name": "stdout",
          "text": [
            "동해물과 백두산이\n",
            "마르고 닳도록\n",
            "...\n"
          ]
        }
      ]
    },
    {
      "cell_type": "code",
      "source": [
        "print( input('당신의 이름은 : ') )"
      ],
      "metadata": {
        "colab": {
          "base_uri": "https://localhost:8080/"
        },
        "id": "5kgYAfoUJFx5",
        "outputId": "10e2360a-475a-4c95-9698-5a61f5895413"
      },
      "execution_count": 12,
      "outputs": [
        {
          "output_type": "stream",
          "name": "stdout",
          "text": [
            "당신의 이름은 : 홍길동\n",
            "홍길동\n"
          ]
        }
      ]
    },
    {
      "cell_type": "code",
      "source": [
        "input('당신의 이름은 : ')  # 사용자의 입력을 받는 명령어\n",
        "print('반갑습니다')  #  print 는 화면에 출력하는 기능"
      ],
      "metadata": {
        "colab": {
          "base_uri": "https://localhost:8080/",
          "height": 184
        },
        "id": "LHQZD1JZJYOg",
        "outputId": "4bc70dbb-ee17-48c1-f088-17d3889a058f"
      },
      "execution_count": 21,
      "outputs": [
        {
          "name": "stdout",
          "output_type": "stream",
          "text": [
            "당신의 이름은 : 121212\n"
          ]
        },
        {
          "output_type": "error",
          "ename": "TypeError",
          "evalue": "'str' object is not callable",
          "traceback": [
            "\u001b[0;31m---------------------------------------------------------------------------\u001b[0m",
            "\u001b[0;31mTypeError\u001b[0m                                 Traceback (most recent call last)",
            "\u001b[0;32m<ipython-input-21-b1fa6035a59e>\u001b[0m in \u001b[0;36m<cell line: 0>\u001b[0;34m()\u001b[0m\n\u001b[1;32m      1\u001b[0m \u001b[0minput\u001b[0m\u001b[0;34m(\u001b[0m\u001b[0;34m'당신의 이름은 : '\u001b[0m\u001b[0;34m)\u001b[0m  \u001b[0;31m# 사용자의 입력을 받는 명령어\u001b[0m\u001b[0;34m\u001b[0m\u001b[0;34m\u001b[0m\u001b[0m\n\u001b[0;32m----> 2\u001b[0;31m \u001b[0mprint\u001b[0m\u001b[0;34m(\u001b[0m\u001b[0;34m'반갑습니다'\u001b[0m\u001b[0;34m)\u001b[0m  \u001b[0;31m#  print 는 화면에 출력하는 기능\u001b[0m\u001b[0;34m\u001b[0m\u001b[0;34m\u001b[0m\u001b[0m\n\u001b[0m",
            "\u001b[0;31mTypeError\u001b[0m: 'str' object is not callable"
          ]
        }
      ]
    },
    {
      "cell_type": "markdown",
      "source": [
        "변수 (값을 저장하는 이름표)"
      ],
      "metadata": {
        "id": "kv-rvlalEsfJ"
      }
    },
    {
      "cell_type": "code",
      "source": [
        "# 변수명 = 값\n",
        "# 변수명은 숫자로 시작할수 없고 공백이 있으면 안되고 예약어는 불가\n",
        "# print = '이것은 프린트'  # 예약어는 불가 --> 문법적으로 막지 않음 ㅠ.ㅠ"
      ],
      "metadata": {
        "id": "ZvatWDzH_NYh"
      },
      "execution_count": 4,
      "outputs": []
    },
    {
      "cell_type": "code",
      "source": [
        "name = '안녕하세요'\n",
        "print(name)\n",
        "name = 1004\n",
        "name"
      ],
      "metadata": {
        "colab": {
          "base_uri": "https://localhost:8080/"
        },
        "id": "xzJyeIgR-Kxq",
        "outputId": "dd057053-0102-438e-cda8-25750c498222"
      },
      "execution_count": 5,
      "outputs": [
        {
          "output_type": "stream",
          "name": "stdout",
          "text": [
            "안녕하세요\n"
          ]
        },
        {
          "output_type": "execute_result",
          "data": {
            "text/plain": [
              "1004"
            ]
          },
          "metadata": {},
          "execution_count": 5
        }
      ]
    },
    {
      "cell_type": "code",
      "source": [
        "name2 = name + 100\n",
        "name2"
      ],
      "metadata": {
        "colab": {
          "base_uri": "https://localhost:8080/"
        },
        "id": "F3ApbNwBN4O5",
        "outputId": "216bf5a4-006b-4413-b939-08354f2d011f"
      },
      "execution_count": 6,
      "outputs": [
        {
          "output_type": "execute_result",
          "data": {
            "text/plain": [
              "1104"
            ]
          },
          "metadata": {},
          "execution_count": 6
        }
      ]
    },
    {
      "cell_type": "code",
      "source": [
        "name = '안녕하세요'\n",
        "name3 = name + 100 #\n",
        "name3"
      ],
      "metadata": {
        "colab": {
          "base_uri": "https://localhost:8080/",
          "height": 184
        },
        "id": "HRHQ7bruPLzj",
        "outputId": "2ecce049-747a-470a-c052-d72544fb7e9a"
      },
      "execution_count": 7,
      "outputs": [
        {
          "output_type": "error",
          "ename": "TypeError",
          "evalue": "can only concatenate str (not \"int\") to str",
          "traceback": [
            "\u001b[0;31m---------------------------------------------------------------------------\u001b[0m",
            "\u001b[0;31mTypeError\u001b[0m                                 Traceback (most recent call last)",
            "\u001b[0;32m<ipython-input-7-812f89932efd>\u001b[0m in \u001b[0;36m<cell line: 0>\u001b[0;34m()\u001b[0m\n\u001b[1;32m      1\u001b[0m \u001b[0mname\u001b[0m \u001b[0;34m=\u001b[0m \u001b[0;34m'안녕하세요'\u001b[0m\u001b[0;34m\u001b[0m\u001b[0;34m\u001b[0m\u001b[0m\n\u001b[0;32m----> 2\u001b[0;31m \u001b[0mname3\u001b[0m \u001b[0;34m=\u001b[0m \u001b[0mname\u001b[0m \u001b[0;34m+\u001b[0m \u001b[0;36m100\u001b[0m\u001b[0;34m\u001b[0m\u001b[0;34m\u001b[0m\u001b[0m\n\u001b[0m\u001b[1;32m      3\u001b[0m \u001b[0mname3\u001b[0m\u001b[0;34m\u001b[0m\u001b[0;34m\u001b[0m\u001b[0m\n",
            "\u001b[0;31mTypeError\u001b[0m: can only concatenate str (not \"int\") to str"
          ]
        }
      ]
    },
    {
      "cell_type": "code",
      "source": [
        "name = '안녕하세요'\n",
        "name3 = name + '100' #\n",
        "name3"
      ],
      "metadata": {
        "colab": {
          "base_uri": "https://localhost:8080/",
          "height": 35
        },
        "id": "7ny2lWI7P60I",
        "outputId": "c44cb26e-327b-4ff1-937e-1debb54ed744"
      },
      "execution_count": 8,
      "outputs": [
        {
          "output_type": "execute_result",
          "data": {
            "text/plain": [
              "'안녕하세요100'"
            ],
            "application/vnd.google.colaboratory.intrinsic+json": {
              "type": "string"
            }
          },
          "metadata": {},
          "execution_count": 8
        }
      ]
    },
    {
      "cell_type": "code",
      "source": [
        "name  = '홍길동'\n",
        "age = 30\n",
        "# 출력은... 안녕하세요 000님 반갑습니다. 나이가 00 이시군요  --> 문장을 만들어서 변수에 저장하고 출력\n",
        "result = '안녕하세요 ' + name + '님 반갑습니다 나이가 ' + str(age) + ' 이시군요'\n",
        "print('*'*100)\n",
        "print(result)\n"
      ],
      "metadata": {
        "colab": {
          "base_uri": "https://localhost:8080/"
        },
        "id": "V1B3Ha4TQA5i",
        "outputId": "01fec108-f5d4-42ee-b785-c6d3c4f198d2"
      },
      "execution_count": 17,
      "outputs": [
        {
          "output_type": "stream",
          "name": "stdout",
          "text": [
            "****************************************************************************************************\n",
            "안녕하세요 홍길동님 반갑습니다 나이가 30 이시군요\n"
          ]
        }
      ]
    },
    {
      "cell_type": "code",
      "source": [
        "name  = input('이름을 입력하세요')\n",
        "age = input('나이를 입력하세요')\n",
        "# 출력은... 안녕하세요 000님 반갑습니다. 나이가 00 이시군요  --> 문장을 만들어서 변수에 저장하고 출력\n",
        "result = '안녕하세요 ' + name + '님 반갑습니다 나이가 ' + str(age) + ' 이시군요'\n",
        "print('*'*100)\n",
        "print(result)"
      ],
      "metadata": {
        "colab": {
          "base_uri": "https://localhost:8080/"
        },
        "id": "m-y3g9eaR6oI",
        "outputId": "05fbf9f6-cd58-41bb-c5fe-0f9efaead712"
      },
      "execution_count": 18,
      "outputs": [
        {
          "output_type": "stream",
          "name": "stdout",
          "text": [
            "이름을 입력하세요강감찬\n",
            "나이를 입력하세요70\n",
            "****************************************************************************************************\n",
            "안녕하세요 강감찬님 반갑습니다 나이가 70 이시군요\n"
          ]
        }
      ]
    },
    {
      "cell_type": "code",
      "source": [
        "# 문자형 숫자를  정수로 변환 -->  int('20')\n",
        "num1 = input('첫번째 정수를 입력하세요 ')\n",
        "num2 = input('두번째 정수를 입력하세요 ')\n",
        "\n",
        "result = int(num1)  + int(num2)  # 정수로 변환\n",
        "print(result)\n",
        "print('두 정수의 합은 : ' + str(result) )  # 문자열 + 정수  --> 문자열 + 문자열"
      ],
      "metadata": {
        "colab": {
          "base_uri": "https://localhost:8080/"
        },
        "id": "4hvpWUEbSx4U",
        "outputId": "3a258316-08f6-422f-eb95-31c6cf004b28"
      },
      "execution_count": 21,
      "outputs": [
        {
          "output_type": "stream",
          "name": "stdout",
          "text": [
            "첫번째 정수를 입력하세요 10\n",
            "두번째 정수를 입력하세요 20\n",
            "30\n",
            "두 정수의 합은 : 30\n"
          ]
        }
      ]
    },
    {
      "cell_type": "markdown",
      "source": [
        "bool 형은 **참(True)과 거짓(False)**을 표현하는 논리형 데이터"
      ],
      "metadata": {
        "id": "d8vpAvbeXGDp"
      }
    },
    {
      "cell_type": "code",
      "source": [
        "is_adult = True\n",
        "is_success = True\n",
        "is_pass = True"
      ],
      "metadata": {
        "id": "EFjgC8T-WmZD"
      },
      "execution_count": 22,
      "outputs": []
    },
    {
      "cell_type": "code",
      "source": [
        "temp = 10 > 100\n",
        "print(temp)"
      ],
      "metadata": {
        "colab": {
          "base_uri": "https://localhost:8080/"
        },
        "id": "_UC2-M1rX2fj",
        "outputId": "1e711882-6ef7-457b-a914-a3b36acbeccb"
      },
      "execution_count": 24,
      "outputs": [
        {
          "output_type": "stream",
          "name": "stdout",
          "text": [
            "False\n"
          ]
        }
      ]
    },
    {
      "cell_type": "code",
      "source": [
        "# 변수에 저장할수있는 데이터 : 문자, 숫자(정수,실수), bool"
      ],
      "metadata": {
        "id": "oKxWOgwsYQ8o"
      },
      "execution_count": null,
      "outputs": []
    },
    {
      "cell_type": "code",
      "source": [
        "# 정리\n",
        "# 명령어 또는 함수 : print, input, str, int\n",
        "# 변수정의, 만드는방법(할당), 사용하는 방법(새로운변수에 할당, 변수간 연산)\n",
        "# f-string"
      ],
      "metadata": {
        "id": "6eIqpGqSYWlB"
      },
      "execution_count": 26,
      "outputs": []
    },
    {
      "cell_type": "code",
      "source": [
        "# 복잡한 형태의 문자열 만들기  -  f-string"
      ],
      "metadata": {
        "id": "3ubpx6nGYs3t"
      },
      "execution_count": 27,
      "outputs": []
    },
    {
      "cell_type": "code",
      "source": [
        "name = \"철수\"\n",
        "age = 20\n",
        "result = f\"{name}는 {age}살입니다.\"\n",
        "\n",
        "print(f\"'{name}'과 '{age}'의 결과는 '{result}' 입니다\")\n"
      ],
      "metadata": {
        "colab": {
          "base_uri": "https://localhost:8080/"
        },
        "id": "9Th_rlI1ZDo1",
        "outputId": "bc1e41ef-d46a-4a88-e2b2-3fa2f402e38d"
      },
      "execution_count": 32,
      "outputs": [
        {
          "output_type": "stream",
          "name": "stdout",
          "text": [
            "'철수'과 '20'의 결과는 '철수는 20살입니다.' 입니다\n"
          ]
        }
      ]
    },
    {
      "cell_type": "code",
      "source": [
        "name = input(\"당신의 이름은 ? \")\n",
        "age = input(\"나이는 몇 살인가요 ? \")\n",
        "addr = input(\"주소를 입력하세요 ? \")\n",
        "\n",
        "print(f\"안녕하세요! 저는 {name}이고, 나이는 {age}살입니다.지역은 {addr} 입니다.\")\n"
      ],
      "metadata": {
        "colab": {
          "base_uri": "https://localhost:8080/"
        },
        "id": "SM7AHe82aZJL",
        "outputId": "17f70ba5-ffe2-470a-fe33-fd81ffaa2e23"
      },
      "execution_count": 33,
      "outputs": [
        {
          "output_type": "stream",
          "name": "stdout",
          "text": [
            "당신의 이름은 ? 홍길동\n",
            "나이는 몇 살인가요 ? 33\n",
            "주소를 입력하세요 ? 서울시 강남구\n",
            "안녕하세요! 저는 홍길동이고, 나이는 33살입니다.지역은 서울시 강남구 입니다.\n"
          ]
        }
      ]
    },
    {
      "cell_type": "markdown",
      "source": [
        "✅ 1. 리스트 (List)\n",
        "\n",
        "📘 이론:\n",
        "여러 개의 값을 순서대로 저장하는 자료형.\n",
        "\n",
        "값 수정/삭제가 가능함 (mutable).\n",
        "\n",
        "대괄호 [] 사용."
      ],
      "metadata": {
        "id": "OwuNfB3gqnTK"
      }
    },
    {
      "cell_type": "code",
      "source": [
        "my_list = [10, 20, 30, 40]"
      ],
      "metadata": {
        "id": "-MWwCXQEebbc"
      },
      "execution_count": null,
      "outputs": []
    },
    {
      "cell_type": "markdown",
      "source": [
        "💡 주요 특징:\n",
        "인덱스(index)로 접근: my_list[0] → 10\n",
        "\n",
        "수정 가능: my_list[1] = 99\n",
        "\n",
        "다양한 자료형 섞어서 저장 가능: [1, \"hello\", True]"
      ],
      "metadata": {
        "id": "rELJCn6Xt_U6"
      }
    },
    {
      "cell_type": "code",
      "source": [
        "# 학생변수를   student라 하고 국,영,수의 점수를 리스트로 저장\n",
        "# 국어 90  영어 90 수학 100\n",
        "student =  [90, 90, 100]"
      ],
      "metadata": {
        "id": "Xsvrh4ACuAd-"
      },
      "execution_count": 36,
      "outputs": []
    },
    {
      "cell_type": "code",
      "source": [
        "# 수학점수를 95점으로 변경\n",
        "student[2] = 95"
      ],
      "metadata": {
        "id": "WFST8oSOvHdr"
      },
      "execution_count": 38,
      "outputs": []
    },
    {
      "cell_type": "code",
      "source": [
        "student"
      ],
      "metadata": {
        "colab": {
          "base_uri": "https://localhost:8080/"
        },
        "id": "CM8aY1BBvJKz",
        "outputId": "07023048-913a-40cf-8c45-4195fa8966b3"
      },
      "execution_count": 39,
      "outputs": [
        {
          "output_type": "execute_result",
          "data": {
            "text/plain": [
              "[90, 90, 95]"
            ]
          },
          "metadata": {},
          "execution_count": 39
        }
      ]
    },
    {
      "cell_type": "code",
      "source": [
        "# 학생은 평균점수, 이름, 나이를 가지고 있다\n",
        "student1 = [94,'홍길동', 25 ]\n",
        "student2 = [90,'이순신', 22 ]\n",
        "student3 = [97,'철이', 21 ]\n",
        "students = [student1, student2, student3]\n",
        "# students 변수를 이용해서 '이순신'의 나이를 출력\n",
        "students[1][2]"
      ],
      "metadata": {
        "colab": {
          "base_uri": "https://localhost:8080/"
        },
        "id": "Pfksumxlvfbj",
        "outputId": "66595458-8137-4a0e-eb49-d1de5fe350f5"
      },
      "execution_count": 44,
      "outputs": [
        {
          "output_type": "execute_result",
          "data": {
            "text/plain": [
              "22"
            ]
          },
          "metadata": {},
          "execution_count": 44
        }
      ]
    },
    {
      "cell_type": "code",
      "source": [
        "students = [\n",
        "  [[91,92,93],'홍길동', 25 ]  ,\n",
        "  [[81,82,83],'이순신', 22 ] ,\n",
        "  [[95,96,97],'철이', 21 ]\n",
        "  ]\n",
        "\n",
        "# 83에 접근해서 100으로 바꾸면\n",
        "students[1][0][2] = 100"
      ],
      "metadata": {
        "id": "KmxvBhybwMWD"
      },
      "execution_count": 49,
      "outputs": []
    },
    {
      "cell_type": "code",
      "source": [
        "students"
      ],
      "metadata": {
        "colab": {
          "base_uri": "https://localhost:8080/"
        },
        "id": "q47rme3Txrg-",
        "outputId": "3b1744f7-c042-4942-b520-43d2207cd065"
      },
      "execution_count": 50,
      "outputs": [
        {
          "output_type": "execute_result",
          "data": {
            "text/plain": [
              "[[[91, 92, 93], '홍길동', 25],\n",
              " [[81, 82, 100], '이순신', 22],\n",
              " [[95, 96, 97], '철이', 21]]"
            ]
          },
          "metadata": {},
          "execution_count": 50
        }
      ]
    },
    {
      "cell_type": "code",
      "source": [
        "# 리스트 만들기\n",
        "fruits = [\"apple\", \"banana\", \"cherry\"]\n",
        "# 요소 추가\n",
        "fruits.append(\"orange\")\n",
        "# 요소 접근\n",
        "print(fruits[1])  # banana\n",
        "# 요소 변경\n",
        "fruits[0] = \"grape\"\n",
        "# 요소 삭제\n",
        "del fruits[2]\n",
        "print(fruits)  # ['grape', 'banana', 'orange']\n"
      ],
      "metadata": {
        "id": "mGCyeRB6zlvD"
      },
      "execution_count": null,
      "outputs": []
    },
    {
      "cell_type": "code",
      "source": [
        "# 비어있는 리스트를 만들고\n",
        "# appned를 이용해서 데이터를 추가하고\n",
        "# del 을 이용해서 삭제하고\n",
        "# 인덱스로 원하는 위치의 값을 출력하고, 변경하고"
      ],
      "metadata": {
        "id": "csjqSCPl0MlR"
      },
      "execution_count": 51,
      "outputs": []
    },
    {
      "cell_type": "code",
      "source": [
        "temp = ['이순신']\n",
        "temp.append( 10  )\n",
        "print(temp)\n",
        "temp.append('홍길동')\n",
        "print(temp)\n",
        "temp.append(True)\n",
        "print(temp)\n",
        "temp.append( [1,2,3,4,5]  )\n",
        "print(temp)\n",
        "# 홍길동을 이순신으로 교체\n",
        "temp[1] = '이순신'\n",
        "print(temp)\n",
        "# True 항목을 삭제\n",
        "del temp[2]  # 위치로 삭제\n",
        "print(temp)\n",
        "temp.remove('이순신')  # 처음 검색된 항목만 삭제  -> 값으로 삭제\n",
        "print(temp)"
      ],
      "metadata": {
        "colab": {
          "base_uri": "https://localhost:8080/"
        },
        "id": "1xkB4Sww0agT",
        "outputId": "e472edc9-b658-48ac-a5d7-cbbaf3414a1c"
      },
      "execution_count": 64,
      "outputs": [
        {
          "output_type": "stream",
          "name": "stdout",
          "text": [
            "['이순신', 10]\n",
            "['이순신', 10, '홍길동']\n",
            "['이순신', 10, '홍길동', True]\n",
            "['이순신', 10, '홍길동', True, [1, 2, 3, 4, 5]]\n",
            "['이순신', '이순신', '홍길동', True, [1, 2, 3, 4, 5]]\n",
            "['이순신', '이순신', True, [1, 2, 3, 4, 5]]\n",
            "['이순신', True, [1, 2, 3, 4, 5]]\n"
          ]
        }
      ]
    },
    {
      "cell_type": "code",
      "source": [
        "# 리스트는 + 연산 제공  : 리스트 + 리스트\n",
        "temp1 = [1,2,3]\n",
        "temp2 =  [10,20,30]\n",
        "temp3 = temp1 + temp2\n",
        "print(temp3)"
      ],
      "metadata": {
        "colab": {
          "base_uri": "https://localhost:8080/"
        },
        "id": "jbE5eEmn0eCS",
        "outputId": "4d092d52-6a6d-4728-e469-1ba51a6b6839"
      },
      "execution_count": 65,
      "outputs": [
        {
          "output_type": "stream",
          "name": "stdout",
          "text": [
            "[1, 2, 3, 10, 20, 30]\n"
          ]
        }
      ]
    },
    {
      "cell_type": "code",
      "source": [
        "# 리스트는 * 연산 제공   리스트 * 정수\n",
        "temp4 = temp1 * 3\n",
        "print(temp4)"
      ],
      "metadata": {
        "colab": {
          "base_uri": "https://localhost:8080/"
        },
        "id": "ejG41nde2YTb",
        "outputId": "211970e3-70bd-41a0-8bc1-3bdb63f8410f"
      },
      "execution_count": 67,
      "outputs": [
        {
          "output_type": "stream",
          "name": "stdout",
          "text": [
            "[1, 2, 3, 1, 2, 3, 1, 2, 3]\n"
          ]
        }
      ]
    },
    {
      "cell_type": "markdown",
      "source": [
        "✅ 2. 튜플 (Tuple)\n",
        "\n",
        "📘 이론:\n",
        "리스트와 비슷하지만, 수정이 불가능한 자료형 (immutable).\n",
        "\n",
        "소괄호 () 사용.\n",
        "\n",
        "💡 주요 특징:\n",
        "\n",
        "읽기 전용 데이터 저장에 적합.\n",
        "\n",
        "요소를 변경하거나 삭제할 수 없음.\n",
        "\n",
        "my_tuple[0] 처럼 인덱스로 접근 가능."
      ],
      "metadata": {
        "id": "xFaULlrY5f4C"
      }
    },
    {
      "cell_type": "markdown",
      "source": [
        "학생 정보 및 성적 관리 (초간단 학사관리)\n",
        "\n",
        "✅ 1단계: 학생 한 명의 정보 저장\n",
        "\n",
        "✅ 2단계: 학생의 과목별 성적 저장 (리스트)\n",
        "\n",
        "✅ 3단계: 하나의 튜플로 학생 전체 정보 묶기"
      ],
      "metadata": {
        "id": "EdJCcjZR7tB6"
      }
    },
    {
      "cell_type": "code",
      "source": [
        "# 학생 한 명의 정보 저장 - student\n",
        "# 평균점수, 이름, 나이, 주소 -->  입력을 받아서\n",
        "score = int(input('평균점수를 입력하세요 : '))\n",
        "name = input('이름을 입력하세요 : ')\n",
        "age = int(input('나이를 입력하세요 : '))\n",
        "addr = input('주소를 입력하세요 : ')\n",
        "student1 = [score, name ,age, addr]\n",
        "print(f'입력하신 정보는 {student1}  입니다. ')\n",
        "\n"
      ],
      "metadata": {
        "colab": {
          "base_uri": "https://localhost:8080/"
        },
        "id": "YWbBSRuo23ZT",
        "outputId": "9551ad76-71af-4771-fc54-fcbc7925c14c"
      },
      "execution_count": 68,
      "outputs": [
        {
          "output_type": "stream",
          "name": "stdout",
          "text": [
            "평균점수를 입력하세요 : 95\n",
            "이름을 입력하세요 : 홍길동\n",
            "나이를 입력하세요 : 25\n",
            "주소를 입력하세요 : 서울시 강남구\n",
            "입력하신 정보는 [95, '홍길동', 25, '서울시 강남구']  입니다. \n"
          ]
        }
      ]
    },
    {
      "cell_type": "code",
      "source": [
        "# 학생의 정보중에 평균점수를 읽어서 90점 이상이면 패스 그렇지 않으면 실패 기록하는\n",
        "# is_pass 변수를 만들어서 값을 넣어보세요\n",
        "is_pass = student1[0] >= 90"
      ],
      "metadata": {
        "id": "4DzWc2Bf-Hki"
      },
      "execution_count": 73,
      "outputs": []
    },
    {
      "cell_type": "code",
      "source": [
        "# is_pass를 학생 리스트에 추가\n",
        "student1.append(is_pass)\n",
        "student1"
      ],
      "metadata": {
        "colab": {
          "base_uri": "https://localhost:8080/"
        },
        "id": "3zbnuuv9-uvL",
        "outputId": "35cdfcbd-1acb-453a-deef-32b70c433399"
      },
      "execution_count": 74,
      "outputs": [
        {
          "output_type": "execute_result",
          "data": {
            "text/plain": [
              "[95, '홍길동', 25, '서울시 강남구', True]"
            ]
          },
          "metadata": {},
          "execution_count": 74
        }
      ]
    },
    {
      "cell_type": "code",
      "source": [
        "# student2 만들고.. 이 학생들(student1 , student2)을  students 변수에 리스트로 저장"
      ],
      "metadata": {
        "id": "-HrtDOaB_LuS"
      },
      "execution_count": 75,
      "outputs": []
    },
    {
      "cell_type": "code",
      "source": [],
      "metadata": {
        "id": "VtwLuvhn_Vyu"
      },
      "execution_count": null,
      "outputs": []
    }
  ]
}