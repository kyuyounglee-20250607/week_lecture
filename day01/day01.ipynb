{
  "nbformat": 4,
  "nbformat_minor": 0,
  "metadata": {
    "colab": {
      "provenance": []
    },
    "kernelspec": {
      "name": "python3",
      "display_name": "Python 3"
    },
    "language_info": {
      "name": "python"
    }
  },
  "cells": [
    {
      "cell_type": "markdown",
      "source": [
        "print - input"
      ],
      "metadata": {
        "id": "YFticMJKHz9S"
      }
    },
    {
      "cell_type": "code",
      "source": [
        "print(\"안녕하세요\")"
      ],
      "metadata": {
        "colab": {
          "base_uri": "https://localhost:8080/"
        },
        "id": "PclewOnEIBN4",
        "outputId": "f37f0766-84a4-414e-8923-36a74873a977"
      },
      "execution_count": 9,
      "outputs": [
        {
          "output_type": "stream",
          "name": "stdout",
          "text": [
            "안녕하세요\n"
          ]
        }
      ]
    },
    {
      "cell_type": "code",
      "source": [
        "print('''동해물과 백두산이\n",
        "마르고 닳도록\n",
        "...''')"
      ],
      "metadata": {
        "colab": {
          "base_uri": "https://localhost:8080/"
        },
        "id": "WFyB3v8VIpwB",
        "outputId": "43a2bd80-b388-4f1e-95cb-99488e034291"
      },
      "execution_count": 10,
      "outputs": [
        {
          "output_type": "stream",
          "name": "stdout",
          "text": [
            "동해물과 백두산이\n",
            "마르고 닳도록\n",
            "...\n"
          ]
        }
      ]
    },
    {
      "cell_type": "code",
      "source": [
        "print( input('당신의 이름은 : ') )"
      ],
      "metadata": {
        "colab": {
          "base_uri": "https://localhost:8080/"
        },
        "id": "5kgYAfoUJFx5",
        "outputId": "10e2360a-475a-4c95-9698-5a61f5895413"
      },
      "execution_count": 12,
      "outputs": [
        {
          "output_type": "stream",
          "name": "stdout",
          "text": [
            "당신의 이름은 : 홍길동\n",
            "홍길동\n"
          ]
        }
      ]
    },
    {
      "cell_type": "code",
      "source": [
        "input('당신의 이름은 : ')  # 사용자의 입력을 받는 명령어\n",
        "print('반갑습니다')  #  print 는 화면에 출력하는 기능"
      ],
      "metadata": {
        "colab": {
          "base_uri": "https://localhost:8080/",
          "height": 180
        },
        "id": "LHQZD1JZJYOg",
        "outputId": "4bc70dbb-ee17-48c1-f088-17d3889a058f"
      },
      "execution_count": 21,
      "outputs": [
        {
          "name": "stdout",
          "output_type": "stream",
          "text": [
            "당신의 이름은 : 121212\n"
          ]
        },
        {
          "output_type": "error",
          "ename": "TypeError",
          "evalue": "'str' object is not callable",
          "traceback": [
            "\u001b[0;31m---------------------------------------------------------------------------\u001b[0m",
            "\u001b[0;31mTypeError\u001b[0m                                 Traceback (most recent call last)",
            "\u001b[0;32m<ipython-input-21-b1fa6035a59e>\u001b[0m in \u001b[0;36m<cell line: 0>\u001b[0;34m()\u001b[0m\n\u001b[1;32m      1\u001b[0m \u001b[0minput\u001b[0m\u001b[0;34m(\u001b[0m\u001b[0;34m'당신의 이름은 : '\u001b[0m\u001b[0;34m)\u001b[0m  \u001b[0;31m# 사용자의 입력을 받는 명령어\u001b[0m\u001b[0;34m\u001b[0m\u001b[0;34m\u001b[0m\u001b[0m\n\u001b[0;32m----> 2\u001b[0;31m \u001b[0mprint\u001b[0m\u001b[0;34m(\u001b[0m\u001b[0;34m'반갑습니다'\u001b[0m\u001b[0;34m)\u001b[0m  \u001b[0;31m#  print 는 화면에 출력하는 기능\u001b[0m\u001b[0;34m\u001b[0m\u001b[0;34m\u001b[0m\u001b[0m\n\u001b[0m",
            "\u001b[0;31mTypeError\u001b[0m: 'str' object is not callable"
          ]
        }
      ]
    },
    {
      "cell_type": "markdown",
      "source": [
        "변수 (값을 저장하는 이름표)"
      ],
      "metadata": {
        "id": "kv-rvlalEsfJ"
      }
    },
    {
      "cell_type": "code",
      "source": [
        "# 변수명 = 값\n",
        "# 변수명은 숫자로 시작할수 없고 공백이 있으면 안되고 예약어는 불가\n",
        "# print = '이것은 프린트'  # 예약어는 불가 --> 문법적으로 막지 않음 ㅠ.ㅠ"
      ],
      "metadata": {
        "id": "ZvatWDzH_NYh"
      },
      "execution_count": 4,
      "outputs": []
    },
    {
      "cell_type": "code",
      "source": [
        "name = '안녕하세요'\n",
        "print(name)\n",
        "name = 1004\n",
        "name"
      ],
      "metadata": {
        "colab": {
          "base_uri": "https://localhost:8080/"
        },
        "id": "xzJyeIgR-Kxq",
        "outputId": "dd057053-0102-438e-cda8-25750c498222"
      },
      "execution_count": 5,
      "outputs": [
        {
          "output_type": "stream",
          "name": "stdout",
          "text": [
            "안녕하세요\n"
          ]
        },
        {
          "output_type": "execute_result",
          "data": {
            "text/plain": [
              "1004"
            ]
          },
          "metadata": {},
          "execution_count": 5
        }
      ]
    },
    {
      "cell_type": "code",
      "source": [
        "name2 = name + 100\n",
        "name2"
      ],
      "metadata": {
        "colab": {
          "base_uri": "https://localhost:8080/"
        },
        "id": "F3ApbNwBN4O5",
        "outputId": "216bf5a4-006b-4413-b939-08354f2d011f"
      },
      "execution_count": 6,
      "outputs": [
        {
          "output_type": "execute_result",
          "data": {
            "text/plain": [
              "1104"
            ]
          },
          "metadata": {},
          "execution_count": 6
        }
      ]
    },
    {
      "cell_type": "code",
      "source": [
        "name = '안녕하세요'\n",
        "name3 = name + 100 #\n",
        "name3"
      ],
      "metadata": {
        "colab": {
          "base_uri": "https://localhost:8080/",
          "height": 180
        },
        "id": "HRHQ7bruPLzj",
        "outputId": "2ecce049-747a-470a-c052-d72544fb7e9a"
      },
      "execution_count": 7,
      "outputs": [
        {
          "output_type": "error",
          "ename": "TypeError",
          "evalue": "can only concatenate str (not \"int\") to str",
          "traceback": [
            "\u001b[0;31m---------------------------------------------------------------------------\u001b[0m",
            "\u001b[0;31mTypeError\u001b[0m                                 Traceback (most recent call last)",
            "\u001b[0;32m<ipython-input-7-812f89932efd>\u001b[0m in \u001b[0;36m<cell line: 0>\u001b[0;34m()\u001b[0m\n\u001b[1;32m      1\u001b[0m \u001b[0mname\u001b[0m \u001b[0;34m=\u001b[0m \u001b[0;34m'안녕하세요'\u001b[0m\u001b[0;34m\u001b[0m\u001b[0;34m\u001b[0m\u001b[0m\n\u001b[0;32m----> 2\u001b[0;31m \u001b[0mname3\u001b[0m \u001b[0;34m=\u001b[0m \u001b[0mname\u001b[0m \u001b[0;34m+\u001b[0m \u001b[0;36m100\u001b[0m\u001b[0;34m\u001b[0m\u001b[0;34m\u001b[0m\u001b[0m\n\u001b[0m\u001b[1;32m      3\u001b[0m \u001b[0mname3\u001b[0m\u001b[0;34m\u001b[0m\u001b[0;34m\u001b[0m\u001b[0m\n",
            "\u001b[0;31mTypeError\u001b[0m: can only concatenate str (not \"int\") to str"
          ]
        }
      ]
    },
    {
      "cell_type": "code",
      "source": [
        "name = '안녕하세요'\n",
        "name3 = name + '100' #\n",
        "name3"
      ],
      "metadata": {
        "colab": {
          "base_uri": "https://localhost:8080/",
          "height": 35
        },
        "id": "7ny2lWI7P60I",
        "outputId": "c44cb26e-327b-4ff1-937e-1debb54ed744"
      },
      "execution_count": 8,
      "outputs": [
        {
          "output_type": "execute_result",
          "data": {
            "text/plain": [
              "'안녕하세요100'"
            ],
            "application/vnd.google.colaboratory.intrinsic+json": {
              "type": "string"
            }
          },
          "metadata": {},
          "execution_count": 8
        }
      ]
    },
    {
      "cell_type": "code",
      "source": [
        "name  = '홍길동'\n",
        "age = 30\n",
        "# 출력은... 안녕하세요 000님 반갑습니다. 나이가 00 이시군요  --> 문장을 만들어서 변수에 저장하고 출력\n",
        "result = '안녕하세요 ' + name + '님 반갑습니다 나이가 ' + str(age) + ' 이시군요'\n",
        "print('*'*100)\n",
        "print(result)\n"
      ],
      "metadata": {
        "colab": {
          "base_uri": "https://localhost:8080/"
        },
        "id": "V1B3Ha4TQA5i",
        "outputId": "01fec108-f5d4-42ee-b785-c6d3c4f198d2"
      },
      "execution_count": 17,
      "outputs": [
        {
          "output_type": "stream",
          "name": "stdout",
          "text": [
            "****************************************************************************************************\n",
            "안녕하세요 홍길동님 반갑습니다 나이가 30 이시군요\n"
          ]
        }
      ]
    },
    {
      "cell_type": "code",
      "source": [
        "name  = input('이름을 입력하세요')\n",
        "age = input('나이를 입력하세요')\n",
        "# 출력은... 안녕하세요 000님 반갑습니다. 나이가 00 이시군요  --> 문장을 만들어서 변수에 저장하고 출력\n",
        "result = '안녕하세요 ' + name + '님 반갑습니다 나이가 ' + str(age) + ' 이시군요'\n",
        "print('*'*100)\n",
        "print(result)"
      ],
      "metadata": {
        "colab": {
          "base_uri": "https://localhost:8080/"
        },
        "id": "m-y3g9eaR6oI",
        "outputId": "05fbf9f6-cd58-41bb-c5fe-0f9efaead712"
      },
      "execution_count": 18,
      "outputs": [
        {
          "output_type": "stream",
          "name": "stdout",
          "text": [
            "이름을 입력하세요강감찬\n",
            "나이를 입력하세요70\n",
            "****************************************************************************************************\n",
            "안녕하세요 강감찬님 반갑습니다 나이가 70 이시군요\n"
          ]
        }
      ]
    },
    {
      "cell_type": "code",
      "source": [
        "# 문자형 숫자를  정수로 변환 -->  int('20')\n",
        "num1 = input('첫번째 정수를 입력하세요 ')\n",
        "num2 = input('두번째 정수를 입력하세요 ')\n",
        "\n",
        "result = int(num1)  + int(num2)  # 정수로 변환\n",
        "print(result)\n",
        "print('두 정수의 합은 : ' + str(result) )  # 문자열 + 정수  --> 문자열 + 문자열"
      ],
      "metadata": {
        "colab": {
          "base_uri": "https://localhost:8080/"
        },
        "id": "4hvpWUEbSx4U",
        "outputId": "3a258316-08f6-422f-eb95-31c6cf004b28"
      },
      "execution_count": 21,
      "outputs": [
        {
          "output_type": "stream",
          "name": "stdout",
          "text": [
            "첫번째 정수를 입력하세요 10\n",
            "두번째 정수를 입력하세요 20\n",
            "30\n",
            "두 정수의 합은 : 30\n"
          ]
        }
      ]
    },
    {
      "cell_type": "markdown",
      "source": [
        "bool 형은 **참(True)과 거짓(False)**을 표현하는 논리형 데이터"
      ],
      "metadata": {
        "id": "d8vpAvbeXGDp"
      }
    },
    {
      "cell_type": "code",
      "source": [
        "is_adult = True\n",
        "is_success = True\n",
        "is_pass = True"
      ],
      "metadata": {
        "id": "EFjgC8T-WmZD"
      },
      "execution_count": 22,
      "outputs": []
    },
    {
      "cell_type": "code",
      "source": [
        "temp = 10 > 100\n",
        "print(temp)"
      ],
      "metadata": {
        "colab": {
          "base_uri": "https://localhost:8080/"
        },
        "id": "_UC2-M1rX2fj",
        "outputId": "1e711882-6ef7-457b-a914-a3b36acbeccb"
      },
      "execution_count": 24,
      "outputs": [
        {
          "output_type": "stream",
          "name": "stdout",
          "text": [
            "False\n"
          ]
        }
      ]
    },
    {
      "cell_type": "code",
      "source": [
        "# 변수에 저장할수있는 데이터 : 문자, 숫자(정수,실수), bool"
      ],
      "metadata": {
        "id": "oKxWOgwsYQ8o"
      },
      "execution_count": null,
      "outputs": []
    },
    {
      "cell_type": "code",
      "source": [
        "# 정리\n",
        "# 명령어 또는 함수 : print, input, str, int\n",
        "# 변수정의, 만드는방법(할당), 사용하는 방법(새로운변수에 할당, 변수간 연산)\n",
        "# f-string"
      ],
      "metadata": {
        "id": "6eIqpGqSYWlB"
      },
      "execution_count": 26,
      "outputs": []
    },
    {
      "cell_type": "code",
      "source": [
        "# 복잡한 형태의 문자열 만들기  -  f-string"
      ],
      "metadata": {
        "id": "3ubpx6nGYs3t"
      },
      "execution_count": 27,
      "outputs": []
    },
    {
      "cell_type": "code",
      "source": [
        "name = \"철수\"\n",
        "age = 20\n",
        "result = f\"{name}는 {age}살입니다.\"\n",
        "\n",
        "print(f\"'{name}'과 '{age}'의 결과는 '{result}' 입니다\")\n"
      ],
      "metadata": {
        "colab": {
          "base_uri": "https://localhost:8080/"
        },
        "id": "9Th_rlI1ZDo1",
        "outputId": "bc1e41ef-d46a-4a88-e2b2-3fa2f402e38d"
      },
      "execution_count": 32,
      "outputs": [
        {
          "output_type": "stream",
          "name": "stdout",
          "text": [
            "'철수'과 '20'의 결과는 '철수는 20살입니다.' 입니다\n"
          ]
        }
      ]
    },
    {
      "cell_type": "code",
      "source": [
        "name = input(\"당신의 이름은 ? \")\n",
        "age = input(\"나이는 몇 살인가요 ? \")\n",
        "addr = input(\"주소를 입력하세요 ? \")\n",
        "\n",
        "print(f\"안녕하세요! 저는 {name}이고, 나이는 {age}살입니다.지역은 {addr} 입니다.\")\n"
      ],
      "metadata": {
        "colab": {
          "base_uri": "https://localhost:8080/"
        },
        "id": "SM7AHe82aZJL",
        "outputId": "17f70ba5-ffe2-470a-fe33-fd81ffaa2e23"
      },
      "execution_count": 33,
      "outputs": [
        {
          "output_type": "stream",
          "name": "stdout",
          "text": [
            "당신의 이름은 ? 홍길동\n",
            "나이는 몇 살인가요 ? 33\n",
            "주소를 입력하세요 ? 서울시 강남구\n",
            "안녕하세요! 저는 홍길동이고, 나이는 33살입니다.지역은 서울시 강남구 입니다.\n"
          ]
        }
      ]
    },
    {
      "cell_type": "markdown",
      "source": [],
      "metadata": {
        "id": "OwuNfB3gqnTK"
      }
    },
    {
      "cell_type": "code",
      "source": [],
      "metadata": {
        "id": "-MWwCXQEebbc"
      },
      "execution_count": null,
      "outputs": []
    }
  ]
}