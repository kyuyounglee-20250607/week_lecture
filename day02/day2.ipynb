{
  "nbformat": 4,
  "nbformat_minor": 0,
  "metadata": {
    "colab": {
      "provenance": []
    },
    "kernelspec": {
      "name": "python3",
      "display_name": "Python 3"
    },
    "language_info": {
      "name": "python"
    }
  },
  "cells": [
    {
      "cell_type": "markdown",
      "source": [
        "튜플\n"
      ],
      "metadata": {
        "id": "DYzMAJxSD0s6"
      }
    },
    {
      "cell_type": "code",
      "source": [
        "# 튜플 (Tuple)\n",
        "# 튜플은 여러 값을 순서대로 저장할 수 있는 자료구조입니다.\n",
        "# 리스트와 비슷하지만, 한 번 생성되면 내용을 변경할 수 없다는 차이점이 있습니다.\n",
        "# 튜플은 소괄호 ()를 사용하여 정의합니다.\n",
        "\n",
        "# 1. 튜플 생성하기\n",
        "my_tuple = (1, 2, 3, 'apple', 'banana')\n",
        "print(my_tuple)\n",
        "# 출력: (1, 2, 3, 'apple', 'banana')\n",
        "\n",
        "# 2. 빈 튜플 생성하기\n",
        "empty_tuple = ()\n",
        "print(empty_tuple)\n",
        "# 출력: ()\n",
        "\n",
        "# 3. 하나의 요소를 가진 튜플 생성하기 (쉼표가 중요합니다!)\n",
        "single_element_tuple = (1,)\n",
        "print(single_element_tuple)\n",
        "# 출력: (1,)\n",
        "\n",
        "# 쉼표가 없으면 그냥 정수 1로 인식됩니다.\n",
        "not_a_tuple = (1)\n",
        "print(not_a_tuple)\n",
        "# 출력: 1\n",
        "\n",
        "# 4. 튜플의 요소에 접근하기 (인덱싱)\n",
        "# 리스트와 마찬가지로 인덱스를 사용하여 요소에 접근할 수 있습니다.\n",
        "# 인덱스는 0부터 시작합니다.\n",
        "print(my_tuple[0])\n",
        "# 출력: 1\n",
        "print(my_tuple[3])\n",
        "# 출력: apple\n",
        "\n",
        "# 5. 튜플의 요소에 접근하기 (슬라이싱)\n",
        "# 슬라이싱을 사용하여 튜플의 일부분을 가져올 수 있습니다.\n",
        "print(my_tuple[1:4])\n",
        "# 출력: (2, 3, 'apple')\n",
        "\n",
        "# 6. 튜플은 변경 불가능 (Immutable)\n",
        "# 튜플의 요소를 변경하려고 하면 오류가 발생합니다.\n",
        "# 다음 코드는 오류를 발생시키므로 주석 처리합니다.\n",
        "# my_tuple[0] = 10\n",
        "# print(my_tuple)\n",
        "\n",
        "# 7. 튜플 길이 확인하기\n",
        "print(len(my_tuple))\n",
        "# 출력: 5\n",
        "\n",
        "# 8. 튜플 연결하기 (새로운 튜플 생성)\n",
        "another_tuple = (6, 7, 8)\n",
        "combined_tuple = my_tuple + another_tuple\n",
        "print(combined_tuple)\n",
        "# 출력: (1, 2, 3, 'apple', 'banana', 6, 7, 8)\n",
        "\n",
        "# 9. 튜플 반복하기\n",
        "repeated_tuple = my_tuple * 2\n",
        "print(repeated_tuple)\n",
        "# 출력: (1, 2, 3, 'apple', 'banana', 1, 2, 3, 'apple', 'banana')\n",
        "\n",
        "# 10. 튜플 언팩킹 (Tuple Unpacking)\n",
        "# 튜플의 요소를 여러 변수에 할당할 수 있습니다.\n",
        "a, b, c, d, e = my_tuple\n",
        "print(a)\n",
        "# 출력: 1\n",
        "print(e)\n",
        "# 출력: banana\n",
        "\n",
        "# 11. 튜플 내 요소 존재 확인\n",
        "print('apple' in my_tuple)\n",
        "# 출력: True\n",
        "print('grape' in my_tuple)\n",
        "# 출력: False\n",
        "\n",
        "# 튜플은 주로 데이터의 순서가 중요하고 변경될 필요가 없는 경우에 사용됩니다.\n",
        "# 예를 들어, 함수의 반환 값으로 여러 값을 묶어서 반환하거나,\n",
        "# 변경 불가능한 데이터 구조가 필요할 때 유용합니다."
      ],
      "metadata": {
        "id": "6BqbIhgQD22a"
      },
      "execution_count": null,
      "outputs": []
    },
    {
      "cell_type": "code",
      "source": [
        "# 셈플로 튜플데이터 만들기, 최초 만든 데이터는 변형불가능 - Read Only\n",
        "# 원본데이터를 보호\n",
        "sample = (1, 2, 3, 4, 5, 3, 3, 3)\n",
        "sample2 = [1, 2, 3, 4, 5]\n",
        "print(sample.count(3))\n",
        "print(sample.index(3))"
      ],
      "metadata": {
        "id": "5WyN46MbFM7L",
        "colab": {
          "base_uri": "https://localhost:8080/"
        },
        "outputId": "fdabefc2-6694-4f08-99eb-bd25adece6e2"
      },
      "execution_count": 10,
      "outputs": [
        {
          "output_type": "stream",
          "name": "stdout",
          "text": [
            "4\n",
            "2\n"
          ]
        }
      ]
    },
    {
      "cell_type": "code",
      "source": [
        "# 언패킹\n",
        "sample = (1, 2, 3, 4, 5)\n",
        "a, b, c, d, e = sample\n",
        "print(a, b, c, d, e)"
      ],
      "metadata": {
        "colab": {
          "base_uri": "https://localhost:8080/"
        },
        "id": "UJxjpVZbF_iM",
        "outputId": "79096429-8ae5-4e4b-8047-a1643491fa34"
      },
      "execution_count": 14,
      "outputs": [
        {
          "output_type": "stream",
          "name": "stdout",
          "text": [
            "1 2 3 4 5\n"
          ]
        }
      ]
    },
    {
      "cell_type": "code",
      "source": [
        "#  [국,영,수], 이름, 나이 를 가지고 있는 학생리스트 만들기\n",
        "student = [  [90,95,97],'홍길동', 25   ]\n",
        "# unpacking\n",
        "score, name, age = student\n",
        "kor, eng, math = score\n",
        "\n",
        "print(kor, eng, math, name, age)"
      ],
      "metadata": {
        "colab": {
          "base_uri": "https://localhost:8080/"
        },
        "id": "31ZeNmDBHsDl",
        "outputId": "8ef81b30-168f-4fb7-aae0-3169ab5ede34"
      },
      "execution_count": 16,
      "outputs": [
        {
          "output_type": "stream",
          "name": "stdout",
          "text": [
            "90 95 97 홍길동 25\n"
          ]
        }
      ]
    },
    {
      "cell_type": "code",
      "source": [
        "# 슬라이싱\n",
        "sample = (1, 2, 3, 4, 5,6,7,8,9,10)\n",
        "train = sample[ : 8]\n",
        "test = sample[ 8: ]\n",
        "print(train)\n",
        "print(test)"
      ],
      "metadata": {
        "colab": {
          "base_uri": "https://localhost:8080/"
        },
        "id": "KiKe-VsyLDJ0",
        "outputId": "0271020d-93bf-4846-8b09-724bebfff3d5"
      },
      "execution_count": 18,
      "outputs": [
        {
          "output_type": "stream",
          "name": "stdout",
          "text": [
            "(1, 2, 3, 4, 5, 6, 7, 8)\n",
            "(9, 10)\n"
          ]
        }
      ]
    },
    {
      "cell_type": "code",
      "source": [
        "# 음수 인덱스\n",
        "sample = (1, 2, 3, 4, 5,6,7,8,9,10)\n",
        "print(sample[-1])\n",
        "print(sample[-3])\n",
        "# 앞에서 2개만 출력\n",
        "print(sample[ : 2])\n",
        "# 뒤에서 2개만 출력\n",
        "print(sample[-2 : ])\n"
      ],
      "metadata": {
        "colab": {
          "base_uri": "https://localhost:8080/"
        },
        "collapsed": true,
        "id": "UR0eZJjONeOz",
        "outputId": "9b0ca002-8d46-484c-d623-248c2eb79c04"
      },
      "execution_count": 19,
      "outputs": [
        {
          "output_type": "stream",
          "name": "stdout",
          "text": [
            "10\n",
            "8\n",
            "(1, 2)\n",
            "(9, 10)\n"
          ]
        }
      ]
    },
    {
      "cell_type": "code",
      "source": [
        "sample = list(range(999999))"
      ],
      "metadata": {
        "id": "Mq4KcIkGOVwU"
      },
      "execution_count": 25,
      "outputs": []
    },
    {
      "cell_type": "code",
      "source": [
        "sample[1000:1010]"
      ],
      "metadata": {
        "colab": {
          "base_uri": "https://localhost:8080/"
        },
        "id": "FFVRDzdYPTLz",
        "outputId": "a43a42c0-eb5a-45e5-dd34-8bc3f99fea9e"
      },
      "execution_count": 30,
      "outputs": [
        {
          "output_type": "execute_result",
          "data": {
            "text/plain": [
              "[1000, 1001, 1002, 1003, 1004, 1005, 1006, 1007, 1008, 1009]"
            ]
          },
          "metadata": {},
          "execution_count": 30
        }
      ]
    },
    {
      "cell_type": "code",
      "source": [
        "sample = list(range(10))"
      ],
      "metadata": {
        "id": "RzQmRGgPO67r"
      },
      "execution_count": 33,
      "outputs": []
    },
    {
      "cell_type": "code",
      "source": [
        "# startindex : endindex : step\n",
        "sample[  :  : 3]"
      ],
      "metadata": {
        "colab": {
          "base_uri": "https://localhost:8080/"
        },
        "id": "WRtBrTBMSr-j",
        "outputId": "83a8d7f6-8cdd-450d-e332-0ecd9dbaabca"
      },
      "execution_count": 39,
      "outputs": [
        {
          "output_type": "execute_result",
          "data": {
            "text/plain": [
              "[0, 3, 6, 9]"
            ]
          },
          "metadata": {},
          "execution_count": 39
        }
      ]
    },
    {
      "cell_type": "code",
      "source": [
        "sample[ : : -1]  # 뒤집기 역순 출력"
      ],
      "metadata": {
        "colab": {
          "base_uri": "https://localhost:8080/"
        },
        "id": "U_c-ETJqS3u6",
        "outputId": "85cf12f9-000d-4777-9050-b2f50c12c5bd"
      },
      "execution_count": 42,
      "outputs": [
        {
          "output_type": "execute_result",
          "data": {
            "text/plain": [
              "[9, 8, 7, 6, 5, 4, 3, 2, 1, 0]"
            ]
          },
          "metadata": {},
          "execution_count": 42
        }
      ]
    },
    {
      "cell_type": "code",
      "source": [
        "sample[ : : -2]"
      ],
      "metadata": {
        "colab": {
          "base_uri": "https://localhost:8080/"
        },
        "id": "VimdxLapTR7b",
        "outputId": "dd9c36eb-c83d-4721-e650-78a1c7c76489"
      },
      "execution_count": 43,
      "outputs": [
        {
          "output_type": "execute_result",
          "data": {
            "text/plain": [
              "[9, 7, 5, 3, 1]"
            ]
          },
          "metadata": {},
          "execution_count": 43
        }
      ]
    },
    {
      "cell_type": "markdown",
      "source": [
        "Python에서 딕셔너리(Dictionary)는 key-value 쌍으로\n",
        "\n",
        "데이터를 저장하는 자료구조입니다. 순서가 중요하지 않으며,\n",
        "\n",
        "key를 통해 value에 빠르게 접근할 수 있습니다. 다음은\n",
        "\n",
        "딕셔너리의 정의와 사용법에 대한 설명입니다."
      ],
      "metadata": {
        "id": "yr5FkhtwUb9s"
      }
    },
    {
      "cell_type": "code",
      "source": [
        "# 딕셔너리 생성하기 (Creating a Dictionary)\n",
        "score1 = {'kor': 95, 'eng': 90, 'math': 93}\n",
        "score2 = {'eng': 90, 'math': 93, 'kor': 95}\n",
        "print(score)"
      ],
      "metadata": {
        "colab": {
          "base_uri": "https://localhost:8080/"
        },
        "id": "5mgJBB39UZ1m",
        "outputId": "6fcbc928-fc9a-4d7c-b853-1ed49e16be27"
      },
      "execution_count": 44,
      "outputs": [
        {
          "output_type": "stream",
          "name": "stdout",
          "text": [
            "{'apple': 1, 'banana': 2, 'cherry': 3}\n"
          ]
        }
      ]
    },
    {
      "cell_type": "code",
      "source": [
        "# 비어있는 dic을 만들때는\n",
        "empty_dict = {}\n",
        "empty_dict = dict()  #함수표현\n",
        "\n",
        "# 비어있는 튜플\n",
        "empty_tuple = ()\n",
        "empty_tuple = tuple() #함수표현\n",
        "\n",
        "# 비어있는 리스트\n",
        "empty_list = []\n",
        "empty_list = list() #함수표현"
      ],
      "metadata": {
        "id": "0ys2JeU7Vhlv"
      },
      "execution_count": null,
      "outputs": []
    },
    {
      "cell_type": "code",
      "source": [
        "my_dict = {'apple': 1, 'banana': 2, 'cherry': 3}\n",
        "# 값에 접근 및 변경\n",
        "my_dict['apple'] = 100\n",
        "print(my_dict)"
      ],
      "metadata": {
        "colab": {
          "base_uri": "https://localhost:8080/"
        },
        "id": "O4hQvzrXWOLt",
        "outputId": "657b524a-baf9-42be-e5e8-8f7477a88764"
      },
      "execution_count": 46,
      "outputs": [
        {
          "output_type": "stream",
          "name": "stdout",
          "text": [
            "{'apple': 100, 'banana': 2, 'cherry': 3}\n"
          ]
        }
      ]
    },
    {
      "cell_type": "code",
      "source": [
        "my_dict['grap'] = 100\n",
        "print(my_dict)"
      ],
      "metadata": {
        "colab": {
          "base_uri": "https://localhost:8080/"
        },
        "id": "YgpS9cGzWi2t",
        "outputId": "1b067727-a28f-4cbd-82cf-82003e6367d2"
      },
      "execution_count": 50,
      "outputs": [
        {
          "output_type": "stream",
          "name": "stdout",
          "text": [
            "{'apple': 100, 'banana': 2, 'cherry': 3, 'grap': 100}\n"
          ]
        }
      ]
    },
    {
      "cell_type": "code",
      "source": [
        "my_dict['orange'] = 300\n",
        "print(my_dict)"
      ],
      "metadata": {
        "colab": {
          "base_uri": "https://localhost:8080/"
        },
        "id": "HB2-EUsoW-PO",
        "outputId": "959ae2b8-753e-42df-ae31-ea1153742fe9"
      },
      "execution_count": 52,
      "outputs": [
        {
          "output_type": "stream",
          "name": "stdout",
          "text": [
            "{'apple': 100, 'banana': 2, 'cherry': 3, 'grap': 100, 'orange': 300}\n"
          ]
        }
      ]
    },
    {
      "cell_type": "code",
      "source": [
        "# get() 메서드를 사용하면 key가 존재하지 않을 경우 오류 대신 None을 반환하거나 기본값을 지정할 수 있습니다.\n",
        "my_dict.get('orange',-1)"
      ],
      "metadata": {
        "colab": {
          "base_uri": "https://localhost:8080/"
        },
        "id": "c64SDzwOXJe8",
        "outputId": "48893cbb-d849-43d9-a2b2-8df085a42155"
      },
      "execution_count": 60,
      "outputs": [
        {
          "output_type": "execute_result",
          "data": {
            "text/plain": [
              "300"
            ]
          },
          "metadata": {},
          "execution_count": 60
        }
      ]
    },
    {
      "cell_type": "code",
      "source": [
        "# 삭제\n",
        "del my_dict['orange']\n",
        "print(my_dict)"
      ],
      "metadata": {
        "colab": {
          "base_uri": "https://localhost:8080/"
        },
        "id": "zi-jlWRNX5HO",
        "outputId": "37d285eb-4b51-42b6-9d64-603e35cf0614"
      },
      "execution_count": 61,
      "outputs": [
        {
          "output_type": "stream",
          "name": "stdout",
          "text": [
            "{'apple': 100, 'banana': 2, 'cherry': 3, 'grap': 100}\n"
          ]
        }
      ]
    },
    {
      "cell_type": "code",
      "source": [
        "my_dict.keys()"
      ],
      "metadata": {
        "colab": {
          "base_uri": "https://localhost:8080/"
        },
        "id": "zv1RoNIxY3Rc",
        "outputId": "225f8149-4206-4d37-a58e-6b7c9083f768"
      },
      "execution_count": 62,
      "outputs": [
        {
          "output_type": "execute_result",
          "data": {
            "text/plain": [
              "dict_keys(['apple', 'banana', 'cherry', 'grap'])"
            ]
          },
          "metadata": {},
          "execution_count": 62
        }
      ]
    },
    {
      "cell_type": "code",
      "source": [
        "my_dict.values()"
      ],
      "metadata": {
        "colab": {
          "base_uri": "https://localhost:8080/"
        },
        "id": "nti_Zx2iZAmN",
        "outputId": "ed9b9c18-e374-433e-c288-4217db54c5d0"
      },
      "execution_count": 63,
      "outputs": [
        {
          "output_type": "execute_result",
          "data": {
            "text/plain": [
              "dict_values([100, 2, 3, 100])"
            ]
          },
          "metadata": {},
          "execution_count": 63
        }
      ]
    },
    {
      "cell_type": "code",
      "source": [
        "my_dict.items()"
      ],
      "metadata": {
        "colab": {
          "base_uri": "https://localhost:8080/"
        },
        "id": "8VBCe4o_ZC3l",
        "outputId": "b76bec32-1cc5-484b-996f-16b3666ce51f"
      },
      "execution_count": 64,
      "outputs": [
        {
          "output_type": "execute_result",
          "data": {
            "text/plain": [
              "dict_items([('apple', 100), ('banana', 2), ('cherry', 3), ('grap', 100)])"
            ]
          },
          "metadata": {},
          "execution_count": 64
        }
      ]
    },
    {
      "cell_type": "code",
      "source": [
        "my_dict.pop('apple')"
      ],
      "metadata": {
        "colab": {
          "base_uri": "https://localhost:8080/",
          "height": 147
        },
        "id": "XbcyRVRXZXAV",
        "outputId": "711ab914-b3d4-4d79-adb1-8f6494069416"
      },
      "execution_count": 67,
      "outputs": [
        {
          "output_type": "error",
          "ename": "KeyError",
          "evalue": "'apple'",
          "traceback": [
            "\u001b[0;31m---------------------------------------------------------------------------\u001b[0m",
            "\u001b[0;31mKeyError\u001b[0m                                  Traceback (most recent call last)",
            "\u001b[0;32m<ipython-input-67-13b1a634819c>\u001b[0m in \u001b[0;36m<cell line: 0>\u001b[0;34m()\u001b[0m\n\u001b[0;32m----> 1\u001b[0;31m \u001b[0mmy_dict\u001b[0m\u001b[0;34m.\u001b[0m\u001b[0mpop\u001b[0m\u001b[0;34m(\u001b[0m\u001b[0;34m'apple'\u001b[0m\u001b[0;34m)\u001b[0m\u001b[0;34m\u001b[0m\u001b[0;34m\u001b[0m\u001b[0m\n\u001b[0m",
            "\u001b[0;31mKeyError\u001b[0m: 'apple'"
          ]
        }
      ]
    },
    {
      "cell_type": "code",
      "source": [
        "my_dict"
      ],
      "metadata": {
        "colab": {
          "base_uri": "https://localhost:8080/"
        },
        "id": "9CkT73mqZ_59",
        "outputId": "feff65a8-9f42-455d-b6a3-7f056f17bc7b"
      },
      "execution_count": 68,
      "outputs": [
        {
          "output_type": "execute_result",
          "data": {
            "text/plain": [
              "{'banana': 2, 'cherry': 3, 'grap': 100}"
            ]
          },
          "metadata": {},
          "execution_count": 68
        }
      ]
    },
    {
      "cell_type": "code",
      "source": [
        "banana = 100"
      ],
      "metadata": {
        "id": "sZ4rZ7Kla0iW"
      },
      "execution_count": 69,
      "outputs": []
    },
    {
      "cell_type": "code",
      "source": [
        "my_dict"
      ],
      "metadata": {
        "colab": {
          "base_uri": "https://localhost:8080/"
        },
        "id": "GcyEBmTla3I1",
        "outputId": "0d2b5a0c-6931-4c3c-d3ba-bb05a8ded218"
      },
      "execution_count": 70,
      "outputs": [
        {
          "output_type": "execute_result",
          "data": {
            "text/plain": [
              "{'banana': 2, 'cherry': 3, 'grap': 100}"
            ]
          },
          "metadata": {},
          "execution_count": 70
        }
      ]
    },
    {
      "cell_type": "code",
      "source": [
        "my_dict.clear()"
      ],
      "metadata": {
        "id": "DajeZzGnbTNW"
      },
      "execution_count": 71,
      "outputs": []
    },
    {
      "cell_type": "code",
      "source": [
        "print(my_dict)"
      ],
      "metadata": {
        "colab": {
          "base_uri": "https://localhost:8080/"
        },
        "id": "bgbjnyITbVPV",
        "outputId": "bd2dc25c-18f7-4474-adf9-526b4804de62"
      },
      "execution_count": 73,
      "outputs": [
        {
          "output_type": "stream",
          "name": "stdout",
          "text": [
            "{}\n"
          ]
        }
      ]
    },
    {
      "cell_type": "code",
      "source": [
        "scores = {'kor':90, 'eng':92, 'math':88}\n",
        "'kor' in scores   # scores의 키값중에 'kor' 이 있는지 물어본다"
      ],
      "metadata": {
        "colab": {
          "base_uri": "https://localhost:8080/"
        },
        "id": "q2J31RbGbnEl",
        "outputId": "689216b5-ca6f-4e71-adef-61766938ce7c"
      },
      "execution_count": 76,
      "outputs": [
        {
          "output_type": "execute_result",
          "data": {
            "text/plain": [
              "False"
            ]
          },
          "metadata": {},
          "execution_count": 76
        }
      ]
    },
    {
      "cell_type": "code",
      "source": [
        "5 / 3  # 몫은 1 나머지는 2"
      ],
      "metadata": {
        "colab": {
          "base_uri": "https://localhost:8080/"
        },
        "id": "OaTy__gdTf2L",
        "outputId": "064ed25f-8872-458c-cf82-98cf0a8013e7"
      },
      "execution_count": 77,
      "outputs": [
        {
          "output_type": "execute_result",
          "data": {
            "text/plain": [
              "1.6666666666666667"
            ]
          },
          "metadata": {},
          "execution_count": 77
        }
      ]
    },
    {
      "cell_type": "code",
      "source": [
        "5 // 3   # 몫"
      ],
      "metadata": {
        "colab": {
          "base_uri": "https://localhost:8080/"
        },
        "id": "iqxAk_sFfi-0",
        "outputId": "bad0beee-369d-4cd3-bdd5-c2b6d8d9192a"
      },
      "execution_count": 78,
      "outputs": [
        {
          "output_type": "execute_result",
          "data": {
            "text/plain": [
              "1"
            ]
          },
          "metadata": {},
          "execution_count": 78
        }
      ]
    },
    {
      "cell_type": "code",
      "source": [
        "5 % 3 # 나머지"
      ],
      "metadata": {
        "colab": {
          "base_uri": "https://localhost:8080/"
        },
        "id": "Kzgl21-ZfxwE",
        "outputId": "ff893c67-0128-45e2-ef05-93b93fcf8ee9"
      },
      "execution_count": 79,
      "outputs": [
        {
          "output_type": "execute_result",
          "data": {
            "text/plain": [
              "2"
            ]
          },
          "metadata": {},
          "execution_count": 79
        }
      ]
    },
    {
      "cell_type": "code",
      "source": [
        "# 제곱근\n",
        "5**2"
      ],
      "metadata": {
        "colab": {
          "base_uri": "https://localhost:8080/"
        },
        "id": "5Jls74iVf12-",
        "outputId": "3db7277f-5217-4dc4-f5ed-df128fc186e6"
      },
      "execution_count": 81,
      "outputs": [
        {
          "output_type": "execute_result",
          "data": {
            "text/plain": [
              "25"
            ]
          },
          "metadata": {},
          "execution_count": 81
        }
      ]
    },
    {
      "cell_type": "code",
      "source": [
        "# 논리연산\n",
        "# 파이썬의 논리 연산자는 주로 불리언 값(True 또는 False)과 함께 사용되어 조건문의 결과를 결정하거나 여러 조건을 결합할 때 사용됩니다. 주요 논리 연산자는 다음과 같습니다.\n",
        "\n",
        "# and: 두 조건이 모두 True일 때 True를 반환합니다.\n",
        "# or: 두 조건 중 하나라도 True일 때 True를 반환합니다.\n",
        "# not: 조건의 결과를 반전시킵니다. (True는 False로, False는 True로)\n",
        "# 변수 설정\n",
        "x = 10\n",
        "y = 5\n",
        "z = 15\n",
        "\n",
        "# 1. and 연산자 예시\n",
        "print(f\"x > 5 and y < 10: {x > 5 and y < 10}\")  # True and True -> True\n",
        "print(f\"x > 12 and y < 10: {x > 12 and y < 10}\") # False and True -> False\n",
        "\n",
        "# 2. or 연산자 예시\n",
        "print(f\"x > 12 or y < 10: {x > 12 or y < 10}\")  # False or True -> True\n",
        "print(f\"x > 12 or y > 10: {x > 12 or y > 10}\")  # False or False -> False\n",
        "\n",
        "# 3. not 연산자 예시\n",
        "print(f\"not (x > 12): {not (x > 12)}\")  # not False -> True\n",
        "print(f\"not (y < 10): {not (y < 10)}\")  # not True -> False\n",
        "\n",
        "# 여러 논리 연산자 함께 사용\n",
        "print(f\"(x > 5 and y < 10) or z > 20: {(x > 5 and y < 10) or z > 20}\") # (True) or (False) -> True\n",
        "print(f\"not (x > 12 or y > 10): {not (x > 12 or y > 10)}\") # not (False) -> True"
      ],
      "metadata": {
        "colab": {
          "base_uri": "https://localhost:8080/"
        },
        "id": "ql6gVsbpgAVf",
        "outputId": "d6607ca4-f5da-4299-c974-ce0297e16049"
      },
      "execution_count": 82,
      "outputs": [
        {
          "output_type": "stream",
          "name": "stdout",
          "text": [
            "x > 5 and y < 10: True\n",
            "x > 12 and y < 10: False\n",
            "x > 12 or y < 10: True\n",
            "x > 12 or y > 10: False\n",
            "not (x > 12): True\n",
            "not (y < 10): False\n",
            "(x > 5 and y < 10) or z > 20: True\n",
            "not (x > 12 or y > 10): True\n"
          ]
        }
      ]
    },
    {
      "cell_type": "code",
      "source": [
        "# and는 모든조건이 True 여만 하고\n",
        "# or 는 한개이상만  True 이면  된다"
      ],
      "metadata": {
        "colab": {
          "base_uri": "https://localhost:8080/"
        },
        "id": "QlMl28k3hHQc",
        "outputId": "20f51b40-9d95-4cf4-fd01-e2d110f8a80d"
      },
      "execution_count": 90,
      "outputs": [
        {
          "output_type": "execute_result",
          "data": {
            "text/plain": [
              "False"
            ]
          },
          "metadata": {},
          "execution_count": 90
        }
      ]
    },
    {
      "cell_type": "code",
      "source": [
        "#  a  =  b  # 대입연산자\n",
        "#  a  ==  b  # 같다\n",
        "#  a  !=  b  # 같지않다\n",
        "#  a  >=  b\n",
        "#  a  >  b\n",
        "#  a  <=  b\n",
        "#  a  <  b"
      ],
      "metadata": {
        "id": "4KpEpKIQhK20"
      },
      "execution_count": 91,
      "outputs": []
    },
    {
      "cell_type": "code",
      "source": [
        "# 조건문\n",
        "# if ~ else\n",
        "print('담배와 술을 주세요')\n",
        "print('미성년자는 안돼요 혹시 몇살이세요?')\n",
        "age = int(input('제 나이는 :'))\n",
        "if age > 19:\n",
        "  print('네 술과 담배가 있습니다. ')\n",
        "  print('감사합니다. ')\n",
        "  print('안녕히 가세요')\n",
        "\n",
        "print('또 오세요.')"
      ],
      "metadata": {
        "colab": {
          "base_uri": "https://localhost:8080/"
        },
        "id": "gc5t70CNiz21",
        "outputId": "c039c38f-7e2b-4d96-9f62-b9ffad10e7f0"
      },
      "execution_count": 102,
      "outputs": [
        {
          "output_type": "stream",
          "name": "stdout",
          "text": [
            "담배와 술을 주세요\n",
            "미성년자는 안돼요 혹시 몇살이세요?\n",
            "제 나이는 :35\n",
            "네 술과 담배가 있습니다. \n",
            "감사합니다. \n",
            "안녕히 가세요\n",
            "또 오세요.\n"
          ]
        }
      ]
    },
    {
      "cell_type": "code",
      "source": [
        "score = int(input('점수를 입력하세요'))\n",
        "# 60점 이상이면 합격\n",
        "if score >= 60:\n",
        "  print('합격입니다.')\n",
        "\n",
        "if score < 60:\n",
        "  print('불합격입니다.')"
      ],
      "metadata": {
        "colab": {
          "base_uri": "https://localhost:8080/"
        },
        "id": "Jhqf5dQbjUQG",
        "outputId": "915b2275-37fd-4471-dfc2-9ba036cdcc13"
      },
      "execution_count": 108,
      "outputs": [
        {
          "output_type": "stream",
          "name": "stdout",
          "text": [
            "점수를 입력하세요50\n",
            "불합격입니다.\n"
          ]
        }
      ]
    },
    {
      "cell_type": "code",
      "source": [
        "score = int(input('점수를 입력하세요'))\n",
        "# 60점 이상이면 합격\n",
        "if score >= 60:\n",
        "  print('합격입니다.')\n",
        "else:\n",
        "  print('불합격입니다.')"
      ],
      "metadata": {
        "colab": {
          "base_uri": "https://localhost:8080/"
        },
        "id": "DYOXzcbUlpVF",
        "outputId": "f6d13730-88c1-4ad9-abb7-4c45ebb165ee"
      },
      "execution_count": 109,
      "outputs": [
        {
          "output_type": "stream",
          "name": "stdout",
          "text": [
            "점수를 입력하세요50\n",
            "불합격입니다.\n"
          ]
        }
      ]
    },
    {
      "cell_type": "code",
      "source": [
        "# A 90~ 100\n",
        "# B 80 ~ 89\n",
        "# C 70 ~ 79\n",
        "score = int(input('점수를 입력하세요'))\n",
        "if score >= 90:\n",
        "  print('A')\n",
        "else:\n",
        "  if score >=80:  # 80,81 ~~ 89\n",
        "    print('B')\n",
        "  else:  # 79이하인 범위\n",
        "    if score >= 70: # 70 ~79\n",
        "      print('C')\n",
        "    else:  # 69 이하인 범위\n",
        "      print('D')\n",
        "\n",
        "\n"
      ],
      "metadata": {
        "id": "Dk0krMo8nUnO"
      },
      "execution_count": null,
      "outputs": []
    },
    {
      "cell_type": "code",
      "source": [
        "# A 90~ 100\n",
        "# B 80 ~ 89\n",
        "# C 70 ~ 79\n",
        "score = int(input('점수를 입력하세요'))\n",
        "if score >= 90:\n",
        "  print('A')\n",
        "elif score >=80:  # 80,81 ~~ 89\n",
        "  print('B')\n",
        "elif score >= 70: # 70 ~79\n",
        "  print('C')\n",
        "else:  # 69 이하인 범위\n",
        "  print('D')"
      ],
      "metadata": {
        "id": "RHUPTdABzx6R"
      },
      "execution_count": null,
      "outputs": []
    }
  ]
}