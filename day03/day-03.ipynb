{
 "cells": [
  {
   "cell_type": "markdown",
   "id": "d528b635",
   "metadata": {},
   "source": [
    "# 오류 및 예외처리\n",
    "```\n",
    "프로그램 실행이 안되는 현상\n",
    "    - 잘못된 연산, 시스템에서 반환하는 오류\n",
    "    - 프로그램 실행이 안됨\n",
    "```\n",
    "# 버그\n",
    "```\n",
    "프로그램 실행은 정상으로 되나.  우리가 예상하지 못한 결과가 나올때\n",
    "```\n",
    "# 디버그\n",
    "```\n",
    "버그를 해결 - 문제점을 찾아서 수정\n",
    "```\n",
    "# 디버깅\n",
    "```\n",
    "디버그를 하는 과정\n",
    "    예상하는 코드 부근에서 실행을 멈추고 실시간으로 조사하는 방법\n",
    "    break point 를 지정하면 해당 라인에서 실행이 멈추고 이때까지의 변수의 값이나 명령어의 상태를 확인가능    \n",
    "```"
   ]
  },
  {
   "cell_type": "code",
   "execution_count": 80,
   "id": "e2b4046a",
   "metadata": {},
   "outputs": [
    {
     "name": "stdout",
     "output_type": "stream",
     "text": [
      "10 / 5 = 2.0\n",
      "division by zero\n",
      "10 / 0 = 2.0\n",
      "division by zero\n",
      "10 / 0 = 2.0\n",
      "10 / 4 = 2.5\n",
      "division by zero\n",
      "10 / 0 = 2.5\n"
     ]
    }
   ],
   "source": [
    "import random\n",
    "for i in range(5):\n",
    "    try:\n",
    "        num1 = 10\n",
    "        num2 = random.randint(0 ,5)  # 0 ~ 4 임의의 값 하나를 생성\n",
    "        result = num1 / num2\n",
    "    except Exception as e:\n",
    "        print(e)\n",
    "    \n",
    "    print(f'{num1} / {num2} = {result}')\n"
   ]
  },
  {
   "cell_type": "code",
   "execution_count": 82,
   "id": "0fb790e4",
   "metadata": {},
   "outputs": [
    {
     "name": "stdout",
     "output_type": "stream",
     "text": [
      "2\n",
      "3\n",
      "list index out of range\n"
     ]
    }
   ],
   "source": [
    "try:\n",
    "    numbers = [1,2,3]\n",
    "    for i in range(1,4):\n",
    "        print(numbers[i])\n",
    "except Exception as e:\n",
    "    print(e)"
   ]
  },
  {
   "cell_type": "code",
   "execution_count": null,
   "id": "97293d5f",
   "metadata": {},
   "outputs": [
    {
     "name": "stdout",
     "output_type": "stream",
     "text": [
      "1\n",
      "123\n",
      "invalid literal for int() with base 10: '434a'\n",
      "444\n"
     ]
    }
   ],
   "source": [
    "# 리스트에 다양한 데이터가 존재\n",
    "mixed_list = ['1', '123', '434a', '444' ]\n",
    "\n",
    "for i in mixed_list:\n",
    "    try:\n",
    "        print(int(i))\n",
    "    except Exception as e:\n",
    "        print(e)"
   ]
  },
  {
   "cell_type": "markdown",
   "id": "e5196491",
   "metadata": {},
   "source": [
    "# 함수\n",
    "```\n",
    "코드들의 집합\n",
    "재사용 가능\n",
    "사용자는 함수이름을 호출(쓴다) 하고 함수실행에 필요한 데이터를 전달가능(전달 안할수도 있음)\n",
    "함수는 실행이 끝나면 자신을 호출한 곳으로 값을 리턴한다(안할수도 있음)\n",
    "def 함수명( 함수가 받는 값을 변수로 표현):\n",
    "    로직\n",
    "    로직\n",
    "     return  값 --> 반환(없을수도 있음)\n",
    "\n",
    "```"
   ]
  },
  {
   "cell_type": "code",
   "execution_count": 108,
   "id": "9513b49a",
   "metadata": {},
   "outputs": [],
   "source": [
    "def divide(num1, num2):\n",
    "     print(num1 / num2)\n",
    "     return num1 / num2"
   ]
  },
  {
   "cell_type": "code",
   "execution_count": 109,
   "id": "17181184",
   "metadata": {},
   "outputs": [
    {
     "name": "stdout",
     "output_type": "stream",
     "text": [
      "2.0\n",
      "2.0\n"
     ]
    }
   ],
   "source": [
    "print(divide(10,5))"
   ]
  },
  {
   "cell_type": "code",
   "execution_count": 97,
   "id": "e36bcca9",
   "metadata": {},
   "outputs": [
    {
     "data": {
      "text/plain": [
       "2.0"
      ]
     },
     "execution_count": 97,
     "metadata": {},
     "output_type": "execute_result"
    }
   ],
   "source": [
    "result"
   ]
  },
  {
   "cell_type": "markdown",
   "id": "72946cdb",
   "metadata": {},
   "source": [
    "# 클래스\n",
    "```\n",
    "변수가 여러개 --> 자료구조\n",
    "명령어 집합 -> 함수\n",
    "\n",
    "변수들과 함수들을 하나로 통합\n",
    "\n",
    "클래스내부에서 정의되는 함수는 메소드라고 부른다\n",
    "\n",
    "클래스를 사용할 수 있게 변수로 저장하는데 이걸 우리는 객체 또는 인스턴스\n",
    "\n",
    "함수를 호출할때와 비교하기 위해서 크래스는 첫글자를 대문자로 한다\n",
    "```"
   ]
  },
  {
   "cell_type": "code",
   "execution_count": 137,
   "id": "03eb5e24",
   "metadata": {},
   "outputs": [],
   "source": [
    "class Student:\n",
    "    def __init__(self):\n",
    "        self.name = ''\n",
    "        self.age =0        \n",
    "    def info(self):\n",
    "        return f'이름: {self.name}, 나이: {self.age}'    "
   ]
  },
  {
   "cell_type": "code",
   "execution_count": 138,
   "id": "90f56f6f",
   "metadata": {},
   "outputs": [
    {
     "name": "stdout",
     "output_type": "stream",
     "text": [
      "이름: 홍길동, 나이: 20\n",
      "이름: 이순신, 나이: 30\n"
     ]
    }
   ],
   "source": [
    "ss1 = Student()\n",
    "ss2 = Student()\n",
    "ss1.name = '홍길동'\n",
    "ss1.age = 20\n",
    "ss2.name = '이순신'\n",
    "ss2.age = 30\n",
    "print(ss1.info())   \n",
    "print(ss2.info())"
   ]
  },
  {
   "cell_type": "code",
   "execution_count": null,
   "id": "622eeeca",
   "metadata": {},
   "outputs": [],
   "source": []
  }
 ],
 "metadata": {
  "kernelspec": {
   "display_name": "week",
   "language": "python",
   "name": "python3"
  },
  "language_info": {
   "codemirror_mode": {
    "name": "ipython",
    "version": 3
   },
   "file_extension": ".py",
   "mimetype": "text/x-python",
   "name": "python",
   "nbconvert_exporter": "python",
   "pygments_lexer": "ipython3",
   "version": "3.13.5"
  }
 },
 "nbformat": 4,
 "nbformat_minor": 5
}
